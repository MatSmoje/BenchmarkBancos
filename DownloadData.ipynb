{
 "cells": [
  {
   "cell_type": "code",
   "execution_count": 10,
   "id": "1d7e9b48",
   "metadata": {},
   "outputs": [],
   "source": [
    "import requests"
   ]
  },
  {
   "cell_type": "code",
   "execution_count": 32,
   "id": "2dc58ca8",
   "metadata": {},
   "outputs": [],
   "source": [
    "link = 'https://www.cmfchile.cl/portal/estadisticas/617/w3-propertyvalue-28917.html'\n",
    "#link='https://www.cmfchile.cl/portal/estadisticas/617/channels-519_js_main.html'\n",
    "headers = {\n",
    "    \"Accept-Encoding\": \"gzip, deflate, br\",\n",
    "}"
   ]
  },
  {
   "cell_type": "code",
   "execution_count": 33,
   "id": "e0d2ca09",
   "metadata": {},
   "outputs": [],
   "source": [
    "resp = requests.get(link, headers = headers, timeout=15)"
   ]
  },
  {
   "cell_type": "code",
   "execution_count": 34,
   "id": "0ea5b4f1",
   "metadata": {},
   "outputs": [
    {
     "data": {
      "text/plain": [
       "'\\r\\n<!DOCTYPE HTML PUBLIC \"-//W3C//DTD HTML 4.01//EN\" \"http://www.w3.org/TR/html4/strict.dtd\">\\r\\n<html>\\r\\n<head>\\r\\n<meta http-equiv=\"Content-Type\" content=\"text/html; charset=utf-8\">\\r\\n<title>P&aacute;gina no encontrada - Comisión para el Mercado Financiero - CMF</title>\\r\\n<link href=\"https://fonts.googleapis.com/css2?family=Open+Sans:ital,wght@0,300;0,400;0,600;0,700;1,300;1,400;1,600;1,700&display=swap\" rel=\"stylesheet\"> \\r\\n<style type=\"text/css\">\\r\\n<!--\\r\\n\\r\\nhtml {\\r\\n\\tmin-height: 100%\\r\\n}\\r\\n\\r\\n\\r\\nbody {\\r\\n\\tfont-family: \"Open Sans\", sans-serif;\\r\\n\\ttext-align:center;\\r\\n\\tmargin:0;\\r\\n\\tcolor: #333;\\r\\n\\tbackground-image: url(https://www.cmfchile.cl/portal/principal/613/channels-515_CMF2020_img_po.jpg);\\r\\n\\tbackground-position: top center;\\r\\n\\tbackground-repeat: no-repeat;\\r\\n\\tbackground-size: cover;\\r\\n}\\r\\n\\r\\n#logo {\\r\\n\\tmargin: 1rem auto;\\r\\n\\tpadding:0;\\r\\n\\ttext-align: center;\\r\\n}\\r\\n\\r\\n#container {\\r\\n\\tmargin:0 auto;\\r\\n\\ttext-align:center;\\r\\n\\tmax-width: 960px;\\r\\n\\tpadding-top:0px;\\r\\n}\\r\\n\\r\\n\\r\\n#cuadro-info {\\r\\n\\tmargin: 0 auto;\\r\\n\\ttext-align:center;\\r\\n\\twidth: 80%;\\r\\n\\tpadding: 3rem 1em;\\r\\n\\r\\n\\tbackground-color: #fff;\\r\\n\\t\\r\\n\\tborder: 1px solid rgba(87, 25, 154, 0.3);\\r\\n\\tborder-bottom-width: 2px;\\r\\n\\tmargin-bottom: 0.5rem;\\r\\n}\\r\\n\\r\\nh1 {\\r\\n   color: #4F4F4F;\\r\\n    font-size: 2em;\\r\\n    font-weight: 400;\\r\\n    line-height: 130%;\\r\\n    padding: 0 0 0.5em;\\r\\n\\tborder-bottom: 1px solid #e1e1e1;\\r\\n}\\r\\n\\r\\np {\\r\\n\\tfont-size: 1.1rem;\\r\\n\\ttext-align:center;\\r\\n\\tmargin: 0;\\r\\n\\tpadding:0;\\r\\n\\tline-height: 150%;\\r\\n}\\r\\n\\r\\na {\\r\\n\\tcolor: #4c77b7;\\r\\n    text-decoration: none;\\r\\n\\tfont-weight: bold;\\r\\n\\tfont-size: 90%;\\r\\n\\tpadding: 0 0.3em;\\r\\n}\\r\\n\\r\\na:hover {\\r\\n    text-decoration: underline;\\r\\n}\\r\\n\\r\\n-->\\r\\n</style>\\r\\n\\r\\n</head>\\r\\n\\r\\n<body>\\r\\n<div id=\"container\">\\r\\n    <div id=\"logo\">\\r\\n    \\t<img src=\"https://www.cmfchile.cl/portal/estadisticas/617/channels-515_cmf_logo_nav.svg\" alt=\"logo CMF\" title=\"Comisión para el Mercado Financiero - CMF\" width=\"300\" height=\"57\">\\r\\n\\r\\n    </div>\\r\\n    <!--== CONTENIDOS===-->\\r\\n    <div id=\"cuadro-info\">\\r\\n    <h1>La página solicitada no está disponible</h1>\\r\\n    <p>Le sugerimos que utilice el buscador o las opciones de navegación <br>\\r\\n      para encontrar la información requerida.<br><br>\\r\\n        <a href=\"javascript:history.back()\">Volver a la página anterior</a> | \\r\\n        <a href=\"https://www.cmfchile.cl/\">Ir a la portada</a></p>\\r\\n    </div>\\r\\n</div>\\r\\n</body>\\r\\n</html>\\r\\n\\r\\n'"
      ]
     },
     "execution_count": 34,
     "metadata": {},
     "output_type": "execute_result"
    }
   ],
   "source": [
    "resp.text"
   ]
  },
  {
   "cell_type": "code",
   "execution_count": null,
   "id": "4ada4e7c",
   "metadata": {},
   "outputs": [],
   "source": []
  },
  {
   "cell_type": "code",
   "execution_count": null,
   "id": "6ddfcdba",
   "metadata": {},
   "outputs": [],
   "source": []
  }
 ],
 "metadata": {
  "kernelspec": {
   "display_name": "Python 3 (ipykernel)",
   "language": "python",
   "name": "python3"
  },
  "language_info": {
   "codemirror_mode": {
    "name": "ipython",
    "version": 3
   },
   "file_extension": ".py",
   "mimetype": "text/x-python",
   "name": "python",
   "nbconvert_exporter": "python",
   "pygments_lexer": "ipython3",
   "version": "3.9.13"
  }
 },
 "nbformat": 4,
 "nbformat_minor": 5
}
